{
 "cells": [
  {
   "cell_type": "code",
   "execution_count": 1,
   "id": "12fa5ba0-1fa1-4102-994f-da0a1f851da2",
   "metadata": {},
   "outputs": [],
   "source": [
    "products = [\"t-shirt\", \"mug\", \"hat\", \"book\", \"keychain\"]\n",
    "\n"
   ]
  },
  {
   "cell_type": "code",
   "execution_count": 2,
   "id": "e7282bc2-d950-4dd9-a6af-a840cad2a681",
   "metadata": {},
   "outputs": [],
   "source": [
    "inventory = {}"
   ]
  },
  {
   "cell_type": "code",
   "execution_count": 3,
   "id": "ba6ef570-eac5-4ee5-9386-94a6c1f1c271",
   "metadata": {},
   "outputs": [
    {
     "name": "stdin",
     "output_type": "stream",
     "text": [
      "Enter a quantity 6\n",
      "Enter a quantity 7\n",
      "Enter a quantity 5\n",
      "Enter a quantity 4\n",
      "Enter a quantity 3\n"
     ]
    }
   ],
   "source": [
    "for product in products:\n",
    "    inventory[product]= int(input('Enter a quantity'))"
   ]
  },
  {
   "cell_type": "code",
   "execution_count": 7,
   "id": "cf5f38ee-b640-4b51-b0b3-749b2bef687b",
   "metadata": {},
   "outputs": [
    {
     "data": {
      "text/plain": [
       "{'t-shirt': 6, 'mug': 7, 'hat': 5, 'book': 4, 'keychain': 3}"
      ]
     },
     "execution_count": 7,
     "metadata": {},
     "output_type": "execute_result"
    }
   ],
   "source": [
    "inventory"
   ]
  },
  {
   "cell_type": "code",
   "execution_count": 9,
   "id": "9f21a870-80c9-4614-a66d-3d347eccbb7c",
   "metadata": {},
   "outputs": [
    {
     "name": "stdin",
     "output_type": "stream",
     "text": [
      "Enter a product mug\n"
     ]
    }
   ],
   "source": [
    "x = input('Enter a product')"
   ]
  },
  {
   "cell_type": "code",
   "execution_count": 11,
   "id": "c161df05-295b-4bd2-ba6c-9da36b1fc5de",
   "metadata": {},
   "outputs": [
    {
     "name": "stdin",
     "output_type": "stream",
     "text": [
      "want to add another product (yes/no) yes\n",
      "Enter another product hat\n",
      "want to add another product (yes/no) yes\n",
      "Enter another product book\n",
      "want to add another product (yes/no) no\n"
     ]
    }
   ],
   "source": [
    "customer_orders = set()\n",
    "customer_orders.add(x)\n",
    "while True:\n",
    "    question = input('want to add another product (yes/no)')\n",
    "    if question == 'yes':\n",
    "        y = (input('Enter another product'))\n",
    "        customer_orders.add(y)\n",
    "    if question != 'yes':\n",
    "        break"
   ]
  },
  {
   "cell_type": "code",
   "execution_count": 25,
   "id": "d933c9ad-5ef5-4cf7-84ef-5820dbd2d47c",
   "metadata": {},
   "outputs": [
    {
     "data": {
      "text/plain": [
       "{'book', 'hat', 'mug'}"
      ]
     },
     "execution_count": 25,
     "metadata": {},
     "output_type": "execute_result"
    }
   ],
   "source": [
    "customer_orders"
   ]
  },
  {
   "cell_type": "code",
   "execution_count": 21,
   "id": "33079e92-d0d3-47dc-8ff1-52c717f28a96",
   "metadata": {},
   "outputs": [],
   "source": [
    "for product in customer_orders:\n",
    "    if product in inventory:\n",
    "        inventory[product] -= 1"
   ]
  },
  {
   "cell_type": "code",
   "execution_count": 27,
   "id": "13cc63cd-7948-4dc4-aedf-dacb238c9a22",
   "metadata": {},
   "outputs": [
    {
     "data": {
      "text/plain": [
       "{'t-shirt': 6, 'mug': 6, 'hat': 4, 'book': 3, 'keychain': 3}"
      ]
     },
     "execution_count": 27,
     "metadata": {},
     "output_type": "execute_result"
    }
   ],
   "source": [
    "inventory"
   ]
  },
  {
   "cell_type": "code",
   "execution_count": null,
   "id": "e2214489-d08d-46d0-8e72-000048dc9182",
   "metadata": {},
   "outputs": [],
   "source": []
  }
 ],
 "metadata": {
  "kernelspec": {
   "display_name": "Python 3 (ipykernel)",
   "language": "python",
   "name": "python3"
  },
  "language_info": {
   "codemirror_mode": {
    "name": "ipython",
    "version": 3
   },
   "file_extension": ".py",
   "mimetype": "text/x-python",
   "name": "python",
   "nbconvert_exporter": "python",
   "pygments_lexer": "ipython3",
   "version": "3.12.4"
  }
 },
 "nbformat": 4,
 "nbformat_minor": 5
}

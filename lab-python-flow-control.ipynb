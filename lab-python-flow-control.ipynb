{
 "cells": [
  {
   "cell_type": "code",
   "execution_count": 3,
   "id": "773a5cb4-a4c9-4533-b547-2ca331f74a95",
   "metadata": {},
   "outputs": [],
   "source": [
    "products = [\"t-shirt\", \"mug\", \"hat\", \"book\", \"keychain\"]"
   ]
  },
  {
   "cell_type": "code",
   "execution_count": 5,
   "id": "d27b30b9-992a-4890-b0a4-e7b65056cd74",
   "metadata": {},
   "outputs": [],
   "source": [
    "inventory = {}"
   ]
  },
  {
   "cell_type": "code",
   "execution_count": 7,
   "id": "1ddac289-4c5b-4d97-a790-44a41c511ed2",
   "metadata": {},
   "outputs": [
    {
     "name": "stdin",
     "output_type": "stream",
     "text": [
      "please enter t-shirt 4\n",
      "please enter mug 8\n",
      "please enter hat 2\n",
      "please enter book 3\n",
      "please enter keychain 6\n"
     ]
    },
    {
     "name": "stdout",
     "output_type": "stream",
     "text": [
      "{'t-shirt': 4, 'mug': 8, 'hat': 2, 'book': 3, 'keychain': 6}\n"
     ]
    }
   ],
   "source": [
    "for product in products:\n",
    "    inventory[product] = int(input(f'please enter {product}'))\n",
    "print(inventory)"
   ]
  },
  {
   "cell_type": "code",
   "execution_count": 69,
   "id": "c61d1b49-263a-4af0-bc70-9dfe422b05c0",
   "metadata": {},
   "outputs": [],
   "source": [
    "customer_set = set()"
   ]
  },
  {
   "cell_type": "code",
   "execution_count": 119,
   "id": "34c2d7ad-4ee8-4949-a060-fcbea56a1d79",
   "metadata": {},
   "outputs": [],
   "source": [
    "def add_to_set():\n",
    "    while True:\n",
    "        customer_set = set()\n",
    "        user_input = input(\"Enter a product\")\n",
    "        customer_set.add(user_input) \n",
    "        user_input_2 = input(\"Do you want to add another product? (yes/no): \")\n",
    "        customer_set.add(user_input)\n",
    "        if user_input_2 != 'yes':\n",
    "            break\n",
    "    print('final set of products', customer_set)"
   ]
  },
  {
   "cell_type": "code",
   "execution_count": 127,
   "id": "df5bcccb-ed95-479e-a0fb-c923aef21537",
   "metadata": {},
   "outputs": [
    {
     "name": "stdin",
     "output_type": "stream",
     "text": [
      "Enter a product t-shirt\n",
      "Do you want to add another product? (yes/no):  no\n"
     ]
    },
    {
     "name": "stdout",
     "output_type": "stream",
     "text": [
      "final set of products {'t-shirt'}\n"
     ]
    }
   ],
   "source": [
    "add_to_set()"
   ]
  },
  {
   "cell_type": "code",
   "execution_count": 123,
   "id": "d6e282e3-1bb9-4f79-952c-f61c765d7d06",
   "metadata": {},
   "outputs": [
    {
     "data": {
      "text/plain": [
       "set"
      ]
     },
     "execution_count": 123,
     "metadata": {},
     "output_type": "execute_result"
    }
   ],
   "source": [
    "type(customer_set)"
   ]
  },
  {
   "cell_type": "code",
   "execution_count": 129,
   "id": "05b0f3f3-31ea-4f3b-9a7d-7e2c97267fc9",
   "metadata": {},
   "outputs": [],
   "source": [
    "for element in customer_set:\n",
    "    if element in inventory.keys:\n",
    "        inventory[element] -= 1"
   ]
  },
  {
   "cell_type": "code",
   "execution_count": null,
   "id": "45325524-5516-4ba0-9e2c-ac12c5dc9576",
   "metadata": {},
   "outputs": [],
   "source": []
  }
 ],
 "metadata": {
  "kernelspec": {
   "display_name": "Python 3 (ipykernel)",
   "language": "python",
   "name": "python3"
  },
  "language_info": {
   "codemirror_mode": {
    "name": "ipython",
    "version": 3
   },
   "file_extension": ".py",
   "mimetype": "text/x-python",
   "name": "python",
   "nbconvert_exporter": "python",
   "pygments_lexer": "ipython3",
   "version": "3.12.4"
  }
 },
 "nbformat": 4,
 "nbformat_minor": 5
}
